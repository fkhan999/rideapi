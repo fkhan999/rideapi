{
 "cells": [
  {
   "cell_type": "markdown",
   "id": "671de16f",
   "metadata": {},
   "source": [
    "### This is post request made to the api path asset_req to create a new request made by requester"
   ]
  },
  {
   "cell_type": "code",
   "execution_count": 10,
   "id": "c133e730",
   "metadata": {},
   "outputs": [
    {
     "name": "stdout",
     "output_type": "stream",
     "text": [
      "<Response [200]> {'message': 'request successfully added', 'data': {'user': 'user3', 'from': 'GKP', 'to': 'LJN', 'date_time': '2022-10-17 00:00:00', 'is_flex': False, 'quantity': 2, 'asset_type': 'LAPTOP', 'sensitivity': 'NORMAL', 'deliver': 'user2'}}\n",
      "2022-10-01 00:00:00\n"
     ]
    }
   ],
   "source": [
    "import requests\n",
    "import json\n",
    "import datetime\n",
    "#headers={\"Content-Type\": \"application/json\"}\n",
    "json={\n",
    "    \"user\":\"user3\",\n",
    "   \"from\":\"GKP\",\n",
    "   \"to\":\"LJN\",\n",
    "   \"date_time\":str(datetime.datetime(2022,10,17)),\n",
    "   \"is_flex\":False,\n",
    "   \"quantity\":2,\n",
    "   \"asset_type\":\"LAPTOP\",\n",
    "   \"sensitivity\":\"NORMAL\",\n",
    "   \"deliver\":\"user2\",\n",
    "  }\n",
    "r=requests.post(\"http://127.0.0.1:8000/api/asset_req/\",json=json)\n",
    "print(r,r.json())\n",
    "print(str(datetime.datetime(2022,10,1)))\n"
   ]
  },
  {
   "cell_type": "markdown",
   "id": "8d21daca",
   "metadata": {},
   "source": [
    "### This is post request made to the api path rider_req/ to create a new ride request by rider"
   ]
  },
  {
   "cell_type": "code",
   "execution_count": 23,
   "id": "a6d7d600",
   "metadata": {},
   "outputs": [
    {
     "name": "stdout",
     "output_type": "stream",
     "text": [
      "<Response [200]> {'message': 'request successfully added', 'data': {'user': 'user1', 'from': 'GKP', 'to': 'DEL', 'date_time': '2022-10-17 00:00:00', 'is_flex': False, 'quantity': 2, 'medium': 'TRAIN'}}\n"
     ]
    }
   ],
   "source": [
    "import requests\n",
    "import json\n",
    "import datetime\n",
    "#headers={\"Content-Type\": \"application/json\"}\n",
    "json={\n",
    "    \"user\":\"user1\",\n",
    "    \"from\":\"GKP\",\n",
    "    \"to\":\"DEL\",\n",
    "    \"date_time\":str(datetime.datetime(2022,10,17)),\n",
    "    \"is_flex\":False,\n",
    "    \"quantity\":2,\n",
    "    \"medium\":\"TRAIN\"\n",
    "}\n",
    "r=requests.post(\"http://127.0.0.1:8000/api/rider_req/\",json=json)\n",
    "print(r,r.json())"
   ]
  },
  {
   "cell_type": "markdown",
   "id": "bda6c812",
   "metadata": {},
   "source": [
    "### This is get request made to api path asset_req_set/ to view the request posted by requester sorted by date of request and with or without filter of assest type and status "
   ]
  },
  {
   "cell_type": "code",
   "execution_count": 30,
   "id": "c02dee5e",
   "metadata": {},
   "outputs": [
    {
     "name": "stdout",
     "output_type": "stream",
     "text": [
      "<Response [200]> {'message': 'success', 'data': [{'id': 15, 'user_req': 'user3', 'from_req': 'GKP', 'to_req': 'LKO', 'date_time_req': '2022-10-17T00:00:00Z', 'is_flex_req': False, 'quantity_req': 2, 'asset_type': 'LAPTOP', 'asset_type_sensitivity': 'NORMAL', 'deliver': 'user2', 'status': 'Pending'}, {'id': 17, 'user_req': 'user3', 'from_req': 'GKP', 'to_req': 'LKO', 'date_time_req': '2022-10-17T00:00:00Z', 'is_flex_req': False, 'quantity_req': 2, 'asset_type': 'LAPTOP', 'asset_type_sensitivity': 'NORMAL', 'deliver': 'user2', 'status': 'Pending'}, {'id': 18, 'user_req': 'user3', 'from_req': 'GKP', 'to_req': 'LKO', 'date_time_req': '2022-10-17T00:00:00Z', 'is_flex_req': False, 'quantity_req': 2, 'asset_type': 'LAPTOP', 'asset_type_sensitivity': 'NORMAL', 'deliver': 'user2', 'status': 'Pending'}, {'id': 19, 'user_req': 'user3', 'from_req': 'GKP', 'to_req': 'LKO', 'date_time_req': '2022-10-17T00:00:00Z', 'is_flex_req': False, 'quantity_req': 2, 'asset_type': 'LAPTOP', 'asset_type_sensitivity': 'NORMAL', 'deliver': 'user2', 'status': 'Pending'}, {'id': 20, 'user_req': 'user3', 'from_req': 'GKP', 'to_req': 'LKO', 'date_time_req': '2022-10-17T00:00:00Z', 'is_flex_req': False, 'quantity_req': 2, 'asset_type': 'LAPTOP', 'asset_type_sensitivity': 'NORMAL', 'deliver': 'user2', 'status': 'Pending'}, {'id': 21, 'user_req': 'user3', 'from_req': 'GKP', 'to_req': 'LKO', 'date_time_req': '2022-10-17T00:00:00Z', 'is_flex_req': False, 'quantity_req': 2, 'asset_type': 'LAPTOP', 'asset_type_sensitivity': 'NORMAL', 'deliver': 'user2', 'status': 'Pending'}, {'id': 22, 'user_req': 'user3', 'from_req': 'GKP', 'to_req': 'LKO', 'date_time_req': '2022-10-17T00:00:00Z', 'is_flex_req': False, 'quantity_req': 2, 'asset_type': 'LAPTOP', 'asset_type_sensitivity': 'NORMAL', 'deliver': 'user2', 'status': 'Pending'}, {'id': 23, 'user_req': 'user3', 'from_req': 'GKP', 'to_req': 'LJN', 'date_time_req': '2022-10-17T00:00:00Z', 'is_flex_req': False, 'quantity_req': 2, 'asset_type': 'LAPTOP', 'asset_type_sensitivity': 'NORMAL', 'deliver': 'user2', 'status': 'Pending'}]}\n"
     ]
    }
   ],
   "source": [
    "import requests\n",
    "import json\n",
    "import datetime\n",
    "#headers={\"Content-Type\": \"application/json\"}\n",
    "json={\"user\":\"user3\",\n",
    "   \"asset_type\":\"laptop\",\n",
    "   \"status\":\"pending\",\n",
    "  }\n",
    "r=requests.get(\"http://127.0.0.1:8000/api/asset_req_get/\",json=json)\n",
    "print(r,r.json())"
   ]
  },
  {
   "cell_type": "markdown",
   "id": "82e51454",
   "metadata": {},
   "source": [
    "### This is get request made to api path match to view the request match by requester of riders request"
   ]
  },
  {
   "cell_type": "code",
   "execution_count": 27,
   "id": "dd4f53ca",
   "metadata": {},
   "outputs": [
    {
     "name": "stdout",
     "output_type": "stream",
     "text": [
      "<Response [200]> {'message': 'success', 'data': [{'id': 8, 'user_rider': 'rider1', 'from_rider': 'GKP', 'to_rider': 'LKO', 'date_time_rider': '2022-10-19T00:00:00Z', 'is_flex_rider': False, 'medium_rider': 'TRAIN', 'quantity_rider': 2}]}\n"
     ]
    }
   ],
   "source": [
    "import requests\n",
    "import json\n",
    "import datetime\n",
    "#headers={\"Content-Type\": \"application/json\"}\n",
    "json={\n",
    "    \"id\":1,\n",
    "    \"page\":0\n",
    "}\n",
    "r=requests.get(\"http://127.0.0.1:8000/api/match/\",json=json)\n",
    "print(r,r.json())"
   ]
  },
  {
   "cell_type": "markdown",
   "id": "95ec5055",
   "metadata": {},
   "source": [
    "### This is post request made to api path rider_select/ to select a rider choice"
   ]
  },
  {
   "cell_type": "code",
   "execution_count": 29,
   "id": "f7c775eb",
   "metadata": {},
   "outputs": [
    {
     "name": "stdout",
     "output_type": "stream",
     "text": [
      "<Response [200]> {'message': 'success', 'data': {'id': 1, 'select_id': 8}}\n"
     ]
    }
   ],
   "source": [
    "import requests\n",
    "import json\n",
    "import datetime\n",
    "\n",
    "#headers={\"Content-Type\": \"application/json\"}\n",
    "json={\n",
    "    \"id\":1,\n",
    "    \"select_id\":8\n",
    "}\n",
    "r=requests.post(\"http://127.0.0.1:8000/api/rider_select/\",json=json)\n",
    "print(r,r.json())\n"
   ]
  },
  {
   "cell_type": "code",
   "execution_count": 31,
   "id": "2f96df74",
   "metadata": {},
   "outputs": [],
   "source": [
    "exit()"
   ]
  },
  {
   "cell_type": "code",
   "execution_count": null,
   "id": "08099314",
   "metadata": {},
   "outputs": [],
   "source": []
  }
 ],
 "metadata": {
  "kernelspec": {
   "display_name": "Python 3 (ipykernel)",
   "language": "python",
   "name": "python3"
  },
  "language_info": {
   "codemirror_mode": {
    "name": "ipython",
    "version": 3
   },
   "file_extension": ".py",
   "mimetype": "text/x-python",
   "name": "python",
   "nbconvert_exporter": "python",
   "pygments_lexer": "ipython3",
   "version": "3.10.7"
  }
 },
 "nbformat": 4,
 "nbformat_minor": 5
}
